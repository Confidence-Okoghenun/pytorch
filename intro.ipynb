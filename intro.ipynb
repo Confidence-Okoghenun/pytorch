{
 "cells": [
  {
   "cell_type": "code",
   "execution_count": 12,
   "metadata": {},
   "outputs": [
    {
     "output_type": "stream",
     "name": "stdout",
     "text": "1.5.1\n"
    }
   ],
   "source": [
    "import torch\n",
    "\n",
    "print(torch.__version__)"
   ]
  },
  {
   "cell_type": "code",
   "execution_count": 13,
   "metadata": {},
   "outputs": [
    {
     "output_type": "execute_result",
     "data": {
      "text/plain": "torch.float64"
     },
     "metadata": {},
     "execution_count": 13
    }
   ],
   "source": [
    "torch.get_default_dtype()  "
   ]
  },
  {
   "cell_type": "code",
   "execution_count": 14,
   "metadata": {},
   "outputs": [],
   "source": [
    "torch.set_default_dtype(torch.float64)"
   ]
  },
  {
   "cell_type": "code",
   "execution_count": 15,
   "metadata": {},
   "outputs": [
    {
     "output_type": "execute_result",
     "data": {
      "text/plain": "tensor([[1., 2., 3.],\n        [4., 5., 6.]])"
     },
     "metadata": {},
     "execution_count": 15
    }
   ],
   "source": [
    "tensor_arr = torch.Tensor([[1,2,3],[4,5,6]])\n",
    "tensor_arr"
   ]
  },
  {
   "cell_type": "code",
   "execution_count": 16,
   "metadata": {},
   "outputs": [
    {
     "output_type": "execute_result",
     "data": {
      "text/plain": "True"
     },
     "metadata": {},
     "execution_count": 16
    }
   ],
   "source": [
    "torch.is_tensor(tensor_arr)"
   ]
  },
  {
   "cell_type": "code",
   "execution_count": 17,
   "metadata": {},
   "outputs": [
    {
     "output_type": "execute_result",
     "data": {
      "text/plain": "6"
     },
     "metadata": {},
     "execution_count": 17
    }
   ],
   "source": [
    "torch.numel(tensor_arr)"
   ]
  },
  {
   "cell_type": "code",
   "execution_count": 18,
   "metadata": {},
   "outputs": [
    {
     "output_type": "execute_result",
     "data": {
      "text/plain": "tensor([[4.6395e-310, 5.4347e-323],\n        [6.9039e-310, 4.6395e-310]])"
     },
     "metadata": {},
     "execution_count": 18
    }
   ],
   "source": [
    "tensor_uninitialized = torch.Tensor(2,2)\n",
    "tensor_uninitialized"
   ]
  },
  {
   "cell_type": "code",
   "execution_count": 19,
   "metadata": {},
   "outputs": [
    {
     "output_type": "execute_result",
     "data": {
      "text/plain": "tensor([[0.3990, 0.6677],\n        [0.9186, 0.8474]])"
     },
     "metadata": {},
     "execution_count": 19
    }
   ],
   "source": [
    "tensor_uninitialized = torch.rand(2,2)\n",
    "tensor_uninitialized"
   ]
  },
  {
   "cell_type": "code",
   "execution_count": 20,
   "metadata": {},
   "outputs": [
    {
     "output_type": "execute_result",
     "data": {
      "text/plain": "tensor([5, 3], dtype=torch.int32)"
     },
     "metadata": {},
     "execution_count": 20
    }
   ],
   "source": [
    "tensor_int = torch.tensor([5,3]).type(torch.IntTensor) #Creates int tensor on CPU only\n",
    "tensor_int"
   ]
  },
  {
   "cell_type": "code",
   "execution_count": 21,
   "metadata": {},
   "outputs": [],
   "source": [
    "#tensor_int_gpu = torch.tensor([5,3]).type(torch.cuda.IntTensor) #Creates int tensor on GPU only\n",
    "#tensor_int_gpu"
   ]
  },
  {
   "cell_type": "code",
   "execution_count": 23,
   "metadata": {},
   "outputs": [
    {
     "output_type": "execute_result",
     "data": {
      "text/plain": "tensor([1, 2, 3], dtype=torch.int16)"
     },
     "metadata": {},
     "execution_count": 23
    }
   ],
   "source": [
    "tensor_short = torch.ShortTensor([1.0,2.0,3.0])\n",
    "tensor_short"
   ]
  },
  {
   "cell_type": "code",
   "execution_count": 24,
   "metadata": {},
   "outputs": [
    {
     "output_type": "execute_result",
     "data": {
      "text/plain": "tensor([1., 2., 3.], dtype=torch.float16)"
     },
     "metadata": {},
     "execution_count": 24
    }
   ],
   "source": [
    "tensor_float = torch.tensor([1.0,2.0,3.0]).type(torch.half)\n",
    "tensor_float"
   ]
  },
  {
   "cell_type": "code",
   "execution_count": 30,
   "metadata": {},
   "outputs": [
    {
     "output_type": "execute_result",
     "data": {
      "text/plain": "tensor([[10., 10., 10., 10., 10., 10.],\n        [10., 10., 10., 10., 10., 10.]])"
     },
     "metadata": {},
     "execution_count": 30
    }
   ],
   "source": [
    "tensor_fill = torch.full((2,6), fill_value=10)\n",
    "tensor_fill"
   ]
  },
  {
   "cell_type": "code",
   "execution_count": 31,
   "metadata": {},
   "outputs": [
    {
     "output_type": "execute_result",
     "data": {
      "text/plain": "tensor([[1, 1, 1, 1],\n        [1, 1, 1, 1]], dtype=torch.int32)"
     },
     "metadata": {},
     "execution_count": 31
    }
   ],
   "source": [
    "tensor_of_ones = torch.ones([2,4], dtype=torch.int32)\n",
    "tensor_of_ones"
   ]
  },
  {
   "cell_type": "code",
   "execution_count": 32,
   "metadata": {},
   "outputs": [
    {
     "output_type": "execute_result",
     "data": {
      "text/plain": "tensor([[0, 0, 0, 0],\n        [0, 0, 0, 0]], dtype=torch.int32)"
     },
     "metadata": {},
     "execution_count": 32
    }
   ],
   "source": [
    "tensor_of_zeros = torch.zeros_like(tensor_of_ones)\n",
    "tensor_of_zeros"
   ]
  },
  {
   "cell_type": "code",
   "execution_count": 33,
   "metadata": {},
   "outputs": [
    {
     "output_type": "execute_result",
     "data": {
      "text/plain": "tensor([[1., 0., 0., 0., 0.],\n        [0., 1., 0., 0., 0.],\n        [0., 0., 1., 0., 0.],\n        [0., 0., 0., 1., 0.],\n        [0., 0., 0., 0., 1.]])"
     },
     "metadata": {},
     "execution_count": 33
    }
   ],
   "source": [
    "tensor_eye = torch.eye(5) #5 x 5 tensor with diagonal elements of one\n",
    "tensor_eye"
   ]
  },
  {
   "cell_type": "code",
   "execution_count": 34,
   "metadata": {},
   "outputs": [
    {
     "output_type": "execute_result",
     "data": {
      "text/plain": "tensor([[0, 0],\n        [1, 1],\n        [2, 2],\n        [3, 3],\n        [4, 4]])"
     },
     "metadata": {},
     "execution_count": 34
    }
   ],
   "source": [
    "non_zero = torch.nonzero(tensor_eye) #Gives indeces of non zero elements in tensor\n",
    "non_zero"
   ]
  },
  {
   "cell_type": "code",
   "execution_count": 35,
   "metadata": {},
   "outputs": [
    {
     "output_type": "execute_result",
     "data": {
      "text/plain": "tensor([[0, 1, 1],\n        [2, 2, 0]])"
     },
     "metadata": {},
     "execution_count": 35
    }
   ],
   "source": [
    "i = torch.tensor([[0,1,1], [2,2,0]]) #makes copy(not view) of passed tensor into new variable\n",
    "i"
   ]
  },
  {
   "cell_type": "code",
   "execution_count": 38,
   "metadata": {},
   "outputs": [
    {
     "output_type": "execute_result",
     "data": {
      "text/plain": "tensor([3., 4., 5.], dtype=torch.float32)"
     },
     "metadata": {},
     "execution_count": 38
    }
   ],
   "source": [
    "v = torch.tensor([3,4,5], dtype=torch.float32)\n",
    "v"
   ]
  },
  {
   "cell_type": "code",
   "execution_count": 39,
   "metadata": {},
   "outputs": [
    {
     "output_type": "execute_result",
     "data": {
      "text/plain": "tensor(indices=tensor([[0, 1, 1],\n                       [2, 2, 0]]),\n       values=tensor([3., 4., 5.]),\n       size=(2, 5), nnz=3, dtype=torch.float32, layout=torch.sparse_coo)"
     },
     "metadata": {},
     "execution_count": 39
    }
   ],
   "source": [
    "sparse_tensor = torch.sparse_coo_tensor(i,v,[2,5])\n",
    "sparse_tensor"
   ]
  },
  {
   "cell_type": "code",
   "execution_count": null,
   "metadata": {},
   "outputs": [],
   "source": [
    " "
   ]
  }
 ],
 "metadata": {
  "language_info": {
   "codemirror_mode": {
    "name": "ipython",
    "version": 3
   },
   "file_extension": ".py",
   "mimetype": "text/x-python",
   "name": "python",
   "nbconvert_exporter": "python",
   "pygments_lexer": "ipython3",
   "version": "3.8.3-final"
  },
  "orig_nbformat": 2,
  "kernelspec": {
   "name": "python38364bitd3a911c672994e21bbfcd04ecfd151d9",
   "display_name": "Python 3.8.3 64-bit"
  }
 },
 "nbformat": 4,
 "nbformat_minor": 2
}