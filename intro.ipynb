{
 "cells": [
  {
   "cell_type": "code",
   "execution_count": 2,
   "metadata": {},
   "outputs": [
    {
     "output_type": "stream",
     "name": "stdout",
     "text": "1.5.1+cpu\n"
    }
   ],
   "source": [
    "import torch\n",
    "\n",
    "print(torch.__version__)"
   ]
  },
  {
   "cell_type": "code",
   "execution_count": 3,
   "metadata": {},
   "outputs": [
    {
     "output_type": "execute_result",
     "data": {
      "text/plain": "torch.float32"
     },
     "metadata": {},
     "execution_count": 3
    }
   ],
   "source": [
    "torch.get_default_dtype()  "
   ]
  },
  {
   "cell_type": "code",
   "execution_count": 4,
   "metadata": {},
   "outputs": [],
   "source": [
    "torch.set_default_dtype(torch.float64)"
   ]
  },
  {
   "cell_type": "code",
   "execution_count": 5,
   "metadata": {},
   "outputs": [
    {
     "output_type": "execute_result",
     "data": {
      "text/plain": "tensor([[1., 2., 3.],\n        [4., 5., 6.]])"
     },
     "metadata": {},
     "execution_count": 5
    }
   ],
   "source": [
    "tensor_arr = torch.Tensor([[1,2,3],[4,5,6]])\n",
    "tensor_arr"
   ]
  },
  {
   "cell_type": "code",
   "execution_count": 6,
   "metadata": {},
   "outputs": [
    {
     "output_type": "execute_result",
     "data": {
      "text/plain": "True"
     },
     "metadata": {},
     "execution_count": 6
    }
   ],
   "source": [
    "torch.is_tensor(tensor_arr)"
   ]
  },
  {
   "cell_type": "code",
   "execution_count": 7,
   "metadata": {},
   "outputs": [
    {
     "output_type": "execute_result",
     "data": {
      "text/plain": "6"
     },
     "metadata": {},
     "execution_count": 7
    }
   ],
   "source": [
    "torch.numel(tensor_arr)"
   ]
  },
  {
   "cell_type": "code",
   "execution_count": 8,
   "metadata": {},
   "outputs": [
    {
     "output_type": "execute_result",
     "data": {
      "text/plain": "tensor([[6.9212e-310, 4.6592e-310],\n        [1.5810e-322, 6.3240e-322]])"
     },
     "metadata": {},
     "execution_count": 8
    }
   ],
   "source": [
    "tensor_uninitialized = torch.Tensor(2,2)\n",
    "tensor_uninitialized"
   ]
  },
  {
   "cell_type": "code",
   "execution_count": 9,
   "metadata": {},
   "outputs": [
    {
     "output_type": "execute_result",
     "data": {
      "text/plain": "tensor([[0.7416, 0.9383],\n        [0.5044, 0.1516]])"
     },
     "metadata": {},
     "execution_count": 9
    }
   ],
   "source": [
    "tensor_uninitialized = torch.rand(2,2)\n",
    "tensor_uninitialized"
   ]
  },
  {
   "cell_type": "code",
   "execution_count": 10,
   "metadata": {},
   "outputs": [
    {
     "output_type": "execute_result",
     "data": {
      "text/plain": "tensor([5, 3], dtype=torch.int32)"
     },
     "metadata": {},
     "execution_count": 10
    }
   ],
   "source": [
    "tensor_int = torch.tensor([5,3]).type(torch.IntTensor) #Creates int tensor on CPU only\n",
    "tensor_int"
   ]
  },
  {
   "cell_type": "code",
   "execution_count": 11,
   "metadata": {},
   "outputs": [],
   "source": [
    "#tensor_int_gpu = torch.tensor([5,3]).type(torch.cuda.IntTensor) #Creates int tensor on GPU only\n",
    "#tensor_int_gpu"
   ]
  },
  {
   "cell_type": "code",
   "execution_count": 12,
   "metadata": {},
   "outputs": [
    {
     "output_type": "execute_result",
     "data": {
      "text/plain": "tensor([1, 2, 3], dtype=torch.int16)"
     },
     "metadata": {},
     "execution_count": 12
    }
   ],
   "source": [
    "tensor_short = torch.ShortTensor([1.0,2.0,3.0])\n",
    "tensor_short"
   ]
  },
  {
   "cell_type": "code",
   "execution_count": 13,
   "metadata": {},
   "outputs": [
    {
     "output_type": "execute_result",
     "data": {
      "text/plain": "tensor([1., 2., 3.], dtype=torch.float16)"
     },
     "metadata": {},
     "execution_count": 13
    }
   ],
   "source": [
    "tensor_float = torch.tensor([1.0,2.0,3.0]).type(torch.half)\n",
    "tensor_float"
   ]
  },
  {
   "cell_type": "code",
   "execution_count": 14,
   "metadata": {},
   "outputs": [
    {
     "output_type": "execute_result",
     "data": {
      "text/plain": "tensor([[10., 10., 10., 10., 10., 10.],\n        [10., 10., 10., 10., 10., 10.]])"
     },
     "metadata": {},
     "execution_count": 14
    }
   ],
   "source": [
    "tensor_fill = torch.full((2,6), fill_value=10)\n",
    "tensor_fill"
   ]
  },
  {
   "cell_type": "code",
   "execution_count": 15,
   "metadata": {},
   "outputs": [
    {
     "output_type": "execute_result",
     "data": {
      "text/plain": "tensor([[1, 1, 1, 1],\n        [1, 1, 1, 1]], dtype=torch.int32)"
     },
     "metadata": {},
     "execution_count": 15
    }
   ],
   "source": [
    "tensor_of_ones = torch.ones([2,4], dtype=torch.int32)\n",
    "tensor_of_ones"
   ]
  },
  {
   "cell_type": "code",
   "execution_count": 16,
   "metadata": {},
   "outputs": [
    {
     "output_type": "execute_result",
     "data": {
      "text/plain": "tensor([[0, 0, 0, 0],\n        [0, 0, 0, 0]], dtype=torch.int32)"
     },
     "metadata": {},
     "execution_count": 16
    }
   ],
   "source": [
    "tensor_of_zeros = torch.zeros_like(tensor_of_ones)\n",
    "tensor_of_zeros"
   ]
  },
  {
   "cell_type": "code",
   "execution_count": 17,
   "metadata": {},
   "outputs": [
    {
     "output_type": "execute_result",
     "data": {
      "text/plain": "tensor([[1., 0., 0., 0., 0.],\n        [0., 1., 0., 0., 0.],\n        [0., 0., 1., 0., 0.],\n        [0., 0., 0., 1., 0.],\n        [0., 0., 0., 0., 1.]])"
     },
     "metadata": {},
     "execution_count": 17
    }
   ],
   "source": [
    "tensor_eye = torch.eye(5) #5 x 5 tensor with diagonal elements of one\n",
    "tensor_eye"
   ]
  },
  {
   "cell_type": "code",
   "execution_count": 18,
   "metadata": {},
   "outputs": [
    {
     "output_type": "execute_result",
     "data": {
      "text/plain": "tensor([[0, 0],\n        [1, 1],\n        [2, 2],\n        [3, 3],\n        [4, 4]])"
     },
     "metadata": {},
     "execution_count": 18
    }
   ],
   "source": [
    "non_zero = torch.nonzero(tensor_eye) #Gives indeces of non zero elements in tensor\n",
    "non_zero"
   ]
  },
  {
   "cell_type": "code",
   "execution_count": 19,
   "metadata": {},
   "outputs": [
    {
     "output_type": "execute_result",
     "data": {
      "text/plain": "tensor([[0, 1, 1],\n        [2, 2, 0]])"
     },
     "metadata": {},
     "execution_count": 19
    }
   ],
   "source": [
    "i = torch.tensor([[0,1,1], [2,2,0]]) #makes copy(not view) of passed tensor into new variable\n",
    "i"
   ]
  },
  {
   "cell_type": "code",
   "execution_count": 20,
   "metadata": {},
   "outputs": [
    {
     "output_type": "execute_result",
     "data": {
      "text/plain": "tensor([3., 4., 5.], dtype=torch.float32)"
     },
     "metadata": {},
     "execution_count": 20
    }
   ],
   "source": [
    "v = torch.tensor([3,4,5], dtype=torch.float32)\n",
    "v"
   ]
  },
  {
   "cell_type": "code",
   "execution_count": 21,
   "metadata": {},
   "outputs": [
    {
     "output_type": "execute_result",
     "data": {
      "text/plain": "tensor(indices=tensor([[0, 1, 1],\n                       [2, 2, 0]]),\n       values=tensor([3., 4., 5.]),\n       size=(2, 5), nnz=3, dtype=torch.float32, layout=torch.sparse_coo)"
     },
     "metadata": {},
     "execution_count": 21
    }
   ],
   "source": [
    "sparse_tensor = torch.sparse_coo_tensor(i,v,[2,5])\n",
    "sparse_tensor"
   ]
  },
  {
   "cell_type": "code",
   "execution_count": 22,
   "metadata": {},
   "outputs": [
    {
     "output_type": "execute_result",
     "data": {
      "text/plain": "tensor([[0.8860, 0.6002, 0.9963],\n        [0.0619, 0.4882, 0.8731]])"
     },
     "metadata": {},
     "execution_count": 22
    }
   ],
   "source": [
    " initial_tensor = torch.rand(2,3)\n",
    " initial_tensor"
   ]
  },
  {
   "cell_type": "code",
   "execution_count": 23,
   "metadata": {},
   "outputs": [
    {
     "output_type": "execute_result",
     "data": {
      "text/plain": "tensor([[10., 10., 10.],\n        [10., 10., 10.]])"
     },
     "metadata": {},
     "execution_count": 23
    }
   ],
   "source": [
    "initial_tensor.fill_(10) #tensor.operation_ is an implace operation"
   ]
  },
  {
   "cell_type": "code",
   "execution_count": 24,
   "metadata": {},
   "outputs": [
    {
     "output_type": "execute_result",
     "data": {
      "text/plain": "tensor([[15., 15., 15.],\n        [15., 15., 15.]])"
     },
     "metadata": {},
     "execution_count": 24
    }
   ],
   "source": [
    "new_tensor = initial_tensor.add(5)\n",
    "new_tensor"
   ]
  },
  {
   "cell_type": "code",
   "execution_count": 25,
   "metadata": {},
   "outputs": [
    {
     "output_type": "execute_result",
     "data": {
      "text/plain": "tensor([[18., 18., 18.],\n        [18., 18., 18.]])"
     },
     "metadata": {},
     "execution_count": 25
    }
   ],
   "source": [
    " initial_tensor.add_(8)\n",
    " initial_tensor"
   ]
  },
  {
   "cell_type": "code",
   "execution_count": 26,
   "metadata": {},
   "outputs": [
    {
     "output_type": "execute_result",
     "data": {
      "text/plain": "tensor([[3.8730, 3.8730, 3.8730],\n        [3.8730, 3.8730, 3.8730]])"
     },
     "metadata": {},
     "execution_count": 26
    }
   ],
   "source": [
    "new_tensor.sqrt_()\n",
    "new_tensor"
   ]
  },
  {
   "cell_type": "code",
   "execution_count": 27,
   "metadata": {},
   "outputs": [
    {
     "output_type": "execute_result",
     "data": {
      "text/plain": "tensor([ 0.1000,  0.8071,  1.5143,  2.2214,  2.9286,  3.6357,  4.3429,  5.0500,\n         5.7571,  6.4643,  7.1714,  7.8786,  8.5857,  9.2929, 10.0000])"
     },
     "metadata": {},
     "execution_count": 27
    }
   ],
   "source": [
    "x = torch.linspace(start=0.1, end=10.0, steps=15)\n",
    "x"
   ]
  },
  {
   "cell_type": "code",
   "execution_count": 28,
   "metadata": {},
   "outputs": [
    {
     "output_type": "execute_result",
     "data": {
      "text/plain": "(tensor([0.1000, 0.8071, 1.5143, 2.2214, 2.9286]),\n tensor([3.6357, 4.3429, 5.0500, 5.7571, 6.4643]),\n tensor([ 7.1714,  7.8786,  8.5857,  9.2929, 10.0000]))"
     },
     "metadata": {},
     "execution_count": 28
    }
   ],
   "source": [
    "tensor_chunk = torch.chunk(x, 3, 0) #Splits tensor into specified parts(arg2) and dimensions(arg3)\n",
    "tensor_chunk"
   ]
  },
  {
   "cell_type": "code",
   "execution_count": 29,
   "metadata": {},
   "outputs": [
    {
     "output_type": "execute_result",
     "data": {
      "text/plain": "tensor([ 0.1000,  0.8071,  1.5143,  2.2214,  2.9286,  3.6357,  4.3429,  5.0500,\n         5.7571,  6.4643,  7.1714,  7.8786,  8.5857,  9.2929, 10.0000])"
     },
     "metadata": {},
     "execution_count": 29
    }
   ],
   "source": [
    "tensor1 = tensor_chunk[0]\n",
    "tensor2 = tensor_chunk[1]\n",
    "tensor3 = tensor_chunk[2]\n",
    "\n",
    "torch.cat((tensor1, tensor2, tensor3), 0)"
   ]
  },
  {
   "cell_type": "code",
   "execution_count": 30,
   "metadata": {},
   "outputs": [
    {
     "output_type": "execute_result",
     "data": {
      "text/plain": "tensor([[10.,  8., 30.],\n        [40.,  5.,  6.],\n        [12.,  2., 21.]])"
     },
     "metadata": {},
     "execution_count": 30
    }
   ],
   "source": [
    "random_tensor = torch.Tensor([[10, 8, 30], [40,5,6], [12,2,21]])\n",
    "random_tensor"
   ]
  },
  {
   "cell_type": "code",
   "execution_count": 31,
   "metadata": {},
   "outputs": [
    {
     "output_type": "execute_result",
     "data": {
      "text/plain": "tensor(8.)"
     },
     "metadata": {},
     "execution_count": 31
    }
   ],
   "source": [
    "random_tensor[0, 1] #Access specific elements"
   ]
  },
  {
   "cell_type": "code",
   "execution_count": 32,
   "metadata": {},
   "outputs": [
    {
     "output_type": "execute_result",
     "data": {
      "text/plain": "tensor([[ 5.,  6.],\n        [ 2., 21.]])"
     },
     "metadata": {},
     "execution_count": 32
    }
   ],
   "source": [
    " random_tensor[1:, 1:] #Array slicing operation"
   ]
  },
  {
   "cell_type": "code",
   "execution_count": 33,
   "metadata": {},
   "outputs": [
    {
     "output_type": "execute_result",
     "data": {
      "text/plain": "torch.Size([3, 3])"
     },
     "metadata": {},
     "execution_count": 33
    }
   ],
   "source": [
    "random_tensor.size()"
   ]
  },
  {
   "cell_type": "code",
   "execution_count": 34,
   "metadata": {},
   "outputs": [
    {
     "output_type": "execute_result",
     "data": {
      "text/plain": "tensor([10.,  8., 30., 40.,  5.,  6., 12.,  2., 21.])"
     },
     "metadata": {},
     "execution_count": 34
    }
   ],
   "source": [
    "resized_tensor = random_tensor.view(9) #Passes by memory reference\n",
    "resized_tensor"
   ]
  },
  {
   "cell_type": "code",
   "execution_count": 35,
   "metadata": {},
   "outputs": [
    {
     "output_type": "execute_result",
     "data": {
      "text/plain": "torch.Size([9])"
     },
     "metadata": {},
     "execution_count": 35
    }
   ],
   "source": [
    "resized_tensor.size()"
   ]
  },
  {
   "cell_type": "code",
   "execution_count": 36,
   "metadata": {},
   "outputs": [
    {
     "output_type": "execute_result",
     "data": {
      "text/plain": "tensor([ 10.,   8.,  30.,  40.,   5.,   6.,  12.,   2., 100.])"
     },
     "metadata": {},
     "execution_count": 36
    }
   ],
   "source": [
    "random_tensor[2,2] = 100.0\n",
    "resized_tensor"
   ]
  },
  {
   "cell_type": "code",
   "execution_count": 37,
   "metadata": {},
   "outputs": [
    {
     "output_type": "execute_result",
     "data": {
      "text/plain": "tensor([[ 10.,   8.,  30.],\n        [ 40.,   5.,   6.],\n        [ 12.,   2., 100.]])"
     },
     "metadata": {},
     "execution_count": 37
    }
   ],
   "source": [
    "random_tensor"
   ]
  },
  {
   "cell_type": "code",
   "execution_count": 38,
   "metadata": {},
   "outputs": [
    {
     "output_type": "execute_result",
     "data": {
      "text/plain": "torch.Size([3, 3])"
     },
     "metadata": {},
     "execution_count": 38
    }
   ],
   "source": [
    "random_tensor.shape"
   ]
  },
  {
   "cell_type": "code",
   "execution_count": 39,
   "metadata": {},
   "outputs": [
    {
     "output_type": "execute_result",
     "data": {
      "text/plain": "tensor([[[ 10.],\n         [  8.],\n         [ 30.]],\n\n        [[ 40.],\n         [  5.],\n         [  6.]],\n\n        [[ 12.],\n         [  2.],\n         [100.]]])"
     },
     "metadata": {},
     "execution_count": 39
    }
   ],
   "source": [
    "tensor_unsqueeze = torch.unsqueeze(random_tensor, 2) #Creating additional dimensions\n",
    "tensor_unsqueeze"
   ]
  },
  {
   "cell_type": "code",
   "execution_count": 40,
   "metadata": {},
   "outputs": [
    {
     "output_type": "execute_result",
     "data": {
      "text/plain": "torch.Size([3, 3, 1])"
     },
     "metadata": {},
     "execution_count": 40
    }
   ],
   "source": [
    "tensor_unsqueeze.shape"
   ]
  },
  {
   "cell_type": "code",
   "execution_count": 41,
   "metadata": {},
   "outputs": [
    {
     "output_type": "execute_result",
     "data": {
      "text/plain": "tensor([[18., 18., 18.],\n        [18., 18., 18.]])"
     },
     "metadata": {},
     "execution_count": 41
    }
   ],
   "source": [
    "initial_tensor"
   ]
  },
  {
   "cell_type": "code",
   "execution_count": 42,
   "metadata": {},
   "outputs": [
    {
     "output_type": "execute_result",
     "data": {
      "text/plain": "tensor([[18., 18.],\n        [18., 18.],\n        [18., 18.]])"
     },
     "metadata": {},
     "execution_count": 42
    }
   ],
   "source": [
    "tensor_transpose = torch.transpose(initial_tensor, 0 , 1)\n",
    "tensor_transpose"
   ]
  },
  {
   "cell_type": "code",
   "execution_count": 43,
   "metadata": {},
   "outputs": [
    {
     "output_type": "execute_result",
     "data": {
      "text/plain": "tensor([[ 10.,   8.,  30.],\n        [ 40.,   5.,   6.],\n        [ 12.,   2., 100.]])"
     },
     "metadata": {},
     "execution_count": 43
    }
   ],
   "source": [
    "random_tensor"
   ]
  },
  {
   "cell_type": "code",
   "execution_count": 44,
   "metadata": {},
   "outputs": [
    {
     "output_type": "execute_result",
     "data": {
      "text/plain": "(tensor([[1, 0, 2],\n         [1, 2, 0],\n         [1, 0, 2]]),\n tensor([[  8.,  10.,  30.],\n         [  5.,   6.,  40.],\n         [  2.,  12., 100.]]))"
     },
     "metadata": {},
     "execution_count": 44
    }
   ],
   "source": [
    "sorted_tensor, sorted_indeces = torch.sort(random_tensor) #Sort method returns two values\n",
    "sorted_indeces,sorted_tensor"
   ]
  },
  {
   "cell_type": "code",
   "execution_count": 45,
   "metadata": {},
   "outputs": [
    {
     "output_type": "execute_result",
     "data": {
      "text/plain": "tensor([-1.1000, -2.2000,  3.3000], dtype=torch.float32)"
     },
     "metadata": {},
     "execution_count": 45
    }
   ],
   "source": [
    "tensor_float = torch.FloatTensor([-1.1,-2.2,3.3])\n",
    "tensor_float"
   ]
  },
  {
   "cell_type": "code",
   "execution_count": 46,
   "metadata": {},
   "outputs": [
    {
     "output_type": "execute_result",
     "data": {
      "text/plain": "tensor([1.1000, 2.2000, 3.3000], dtype=torch.float32)"
     },
     "metadata": {},
     "execution_count": 46
    }
   ],
   "source": [
    "tensor_abs = torch.abs(tensor_float)\n",
    "tensor_abs"
   ]
  },
  {
   "cell_type": "code",
   "execution_count": 1,
   "metadata": {},
   "outputs": [
    {
     "output_type": "error",
     "ename": "NameError",
     "evalue": "name 'torch' is not defined",
     "traceback": [
      "\u001b[0;31m---------------------------------------------------------------------------\u001b[0m",
      "\u001b[0;31mNameError\u001b[0m                                 Traceback (most recent call last)",
      "\u001b[0;32m<ipython-input-1-24ce7f82ba37>\u001b[0m in \u001b[0;36m<module>\u001b[0;34m\u001b[0m\n\u001b[0;32m----> 1\u001b[0;31m \u001b[0mrand1\u001b[0m \u001b[0;34m=\u001b[0m \u001b[0mtorch\u001b[0m\u001b[0;34m.\u001b[0m\u001b[0mabs\u001b[0m\u001b[0;34m(\u001b[0m\u001b[0mtorch\u001b[0m\u001b[0;34m.\u001b[0m\u001b[0mrandn\u001b[0m\u001b[0;34m(\u001b[0m\u001b[0;36m2\u001b[0m\u001b[0;34m,\u001b[0m\u001b[0;36m3\u001b[0m\u001b[0;34m)\u001b[0m\u001b[0;34m)\u001b[0m \u001b[0;31m#The .randn method returns random negative tensors\u001b[0m\u001b[0;34m\u001b[0m\u001b[0;34m\u001b[0m\u001b[0m\n\u001b[0m\u001b[1;32m      2\u001b[0m \u001b[0mrand2\u001b[0m \u001b[0;34m=\u001b[0m \u001b[0mtorch\u001b[0m\u001b[0;34m.\u001b[0m\u001b[0mabs\u001b[0m\u001b[0;34m(\u001b[0m\u001b[0mtorch\u001b[0m\u001b[0;34m.\u001b[0m\u001b[0mrandn\u001b[0m\u001b[0;34m(\u001b[0m\u001b[0;36m2\u001b[0m\u001b[0;34m,\u001b[0m\u001b[0;36m3\u001b[0m\u001b[0;34m)\u001b[0m\u001b[0;34m)\u001b[0m\u001b[0;34m\u001b[0m\u001b[0;34m\u001b[0m\u001b[0m\n\u001b[1;32m      3\u001b[0m \u001b[0mrand1\u001b[0m\u001b[0;34m,\u001b[0m \u001b[0mrand2\u001b[0m\u001b[0;34m\u001b[0m\u001b[0;34m\u001b[0m\u001b[0m\n",
      "\u001b[0;31mNameError\u001b[0m: name 'torch' is not defined"
     ]
    }
   ],
   "source": [
    "rand1 = torch.abs(torch.randn(2,3)) #The .randn method returns random negative tensors\n",
    "rand2 = torch.abs(torch.randn(2,3))\n",
    "rand1, rand2"
   ]
  },
  {
   "cell_type": "code",
   "execution_count": 48,
   "metadata": {},
   "outputs": [
    {
     "output_type": "execute_result",
     "data": {
      "text/plain": "tensor([[0.5359, 1.6470, 2.8918],\n        [1.3843, 0.6402, 2.7556]])"
     },
     "metadata": {},
     "execution_count": 48
    }
   ],
   "source": [
    "add1 = rand1 + rand2\n",
    "add1"
   ]
  },
  {
   "cell_type": "code",
   "execution_count": 49,
   "metadata": {},
   "outputs": [
    {
     "output_type": "execute_result",
     "data": {
      "text/plain": "tensor([[0.5359, 1.6470, 2.8918],\n        [1.3843, 0.6402, 2.7556]])"
     },
     "metadata": {},
     "execution_count": 49
    }
   ],
   "source": [
    "add2 = torch.add(rand1, rand2)\n",
    "add2"
   ]
  },
  {
   "cell_type": "code",
   "execution_count": 50,
   "metadata": {},
   "outputs": [],
   "source": [
    "tensor = torch.Tensor([[-1,-2,-3], [1,2,3]])"
   ]
  },
  {
   "cell_type": "code",
   "execution_count": 51,
   "metadata": {},
   "outputs": [
    {
     "output_type": "execute_result",
     "data": {
      "text/plain": "tensor([[1.4286, 1.1765, 1.1111],\n        [0.7692, 0.8696, 0.9091]])"
     },
     "metadata": {},
     "execution_count": 51
    }
   ],
   "source": [
    "tensor_div = torch.div(tensor, tensor + 0.3)\n",
    "tensor_div"
   ]
  },
  {
   "cell_type": "code",
   "execution_count": 52,
   "metadata": {},
   "outputs": [
    {
     "output_type": "execute_result",
     "data": {
      "text/plain": "tensor([[1., 4., 9.],\n        [1., 4., 9.]])"
     },
     "metadata": {},
     "execution_count": 52
    }
   ],
   "source": [
    "tensor_mul = torch.mul(tensor, tensor)\n",
    "tensor_mul"
   ]
  },
  {
   "cell_type": "code",
   "execution_count": 53,
   "metadata": {},
   "outputs": [
    {
     "output_type": "execute_result",
     "data": {
      "text/plain": "tensor([[-0.2000, -0.2000, -0.2000],\n        [ 1.0000,  2.0000,  2.0000]])"
     },
     "metadata": {},
     "execution_count": 53
    }
   ],
   "source": [
    "tensor_clamp = torch.clamp(tensor, min=-0.2, max=2) #Sets a limit for tensor elements\n",
    "tensor_clamp"
   ]
  },
  {
   "cell_type": "code",
   "execution_count": 54,
   "metadata": {},
   "outputs": [],
   "source": [
    "t1 = torch.Tensor([1,2])\n",
    "t2 = torch.Tensor([10,20])"
   ]
  },
  {
   "cell_type": "code",
   "execution_count": 55,
   "metadata": {},
   "outputs": [
    {
     "output_type": "execute_result",
     "data": {
      "text/plain": "tensor(50.)"
     },
     "metadata": {},
     "execution_count": 55
    }
   ],
   "source": [
    "dot_product = torch.dot(t1, t2) #Performs matrix dot product\n",
    "dot_product"
   ]
  },
  {
   "cell_type": "code",
   "execution_count": 56,
   "metadata": {},
   "outputs": [],
   "source": [
    "matrix = torch.Tensor([[1,2,3], [4,5,6]])\n",
    "vector = torch.Tensor([0,1,2])"
   ]
  },
  {
   "cell_type": "code",
   "execution_count": 57,
   "metadata": {},
   "outputs": [
    {
     "output_type": "execute_result",
     "data": {
      "text/plain": "tensor([ 8., 17.])"
     },
     "metadata": {},
     "execution_count": 57
    }
   ],
   "source": [
    "matrix_vector  = torch.mv(matrix, vector)\n",
    "matrix_vector"
   ]
  },
  {
   "cell_type": "code",
   "execution_count": 58,
   "metadata": {},
   "outputs": [],
   "source": [
    "andother_matrix = torch.Tensor([[10,30], [20,0], [0,50]])"
   ]
  },
  {
   "cell_type": "code",
   "execution_count": 59,
   "metadata": {},
   "outputs": [
    {
     "output_type": "execute_result",
     "data": {
      "text/plain": "tensor([[ 50., 180.],\n        [140., 420.]])"
     },
     "metadata": {},
     "execution_count": 59
    }
   ],
   "source": [
    "matrix_mul = torch.mm(matrix, andother_matrix)\n",
    "matrix_mul"
   ]
  },
  {
   "cell_type": "code",
   "execution_count": 60,
   "metadata": {},
   "outputs": [
    {
     "output_type": "execute_result",
     "data": {
      "text/plain": "tensor([1, 1])"
     },
     "metadata": {},
     "execution_count": 60
    }
   ],
   "source": [
    "torch.argmax(matrix_mul, dim=1) #Returns position of largest element along a dimension"
   ]
  },
  {
   "cell_type": "code",
   "execution_count": 61,
   "metadata": {},
   "outputs": [
    {
     "output_type": "execute_result",
     "data": {
      "text/plain": "tensor([0, 0])"
     },
     "metadata": {},
     "execution_count": 61
    }
   ],
   "source": [
    "torch.argmin(matrix_mul, dim=1) #Returns position of smallest element along a dimension"
   ]
  }
 ],
 "metadata": {
  "language_info": {
   "codemirror_mode": {
    "name": "ipython",
    "version": 3
   },
   "file_extension": ".py",
   "mimetype": "text/x-python",
   "name": "python",
   "nbconvert_exporter": "python",
   "pygments_lexer": "ipython3",
   "version": "3.8.3-final"
  },
  "orig_nbformat": 2,
  "kernelspec": {
   "name": "python38364bitbf6ae328e6a449358251341c4f3100d2",
   "display_name": "Python 3.8.3 64-bit"
  }
 },
 "nbformat": 4,
 "nbformat_minor": 2
}