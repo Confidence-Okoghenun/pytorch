{
 "cells": [
  {
   "cell_type": "code",
   "execution_count": 105,
   "metadata": {},
   "outputs": [],
   "source": [
    "import torch "
   ]
  },
  {
   "cell_type": "code",
   "execution_count": 106,
   "metadata": {},
   "outputs": [
    {
     "output_type": "execute_result",
     "data": {
      "text/plain": "tensor([[1., 2., 3.],\n        [4., 5., 6.]])"
     },
     "metadata": {},
     "execution_count": 106
    }
   ],
   "source": [
    "tensor1 = torch.Tensor([[1,2,3], [4,5,6]])\n",
    "tensor1"
   ]
  },
  {
   "cell_type": "code",
   "execution_count": 107,
   "metadata": {},
   "outputs": [
    {
     "output_type": "execute_result",
     "data": {
      "text/plain": "tensor([[ 7.,  8.,  9.],\n        [10., 11., 12.]])"
     },
     "metadata": {},
     "execution_count": 107
    }
   ],
   "source": [
    "tensor2 = torch.Tensor([[7,8,9], [10,11,12]])\n",
    "tensor2"
   ]
  },
  {
   "cell_type": "code",
   "execution_count": 108,
   "metadata": {},
   "outputs": [
    {
     "output_type": "execute_result",
     "data": {
      "text/plain": "False"
     },
     "metadata": {},
     "execution_count": 108
    }
   ],
   "source": [
    "tensor1.requires_grad"
   ]
  },
  {
   "cell_type": "code",
   "execution_count": 109,
   "metadata": {},
   "outputs": [
    {
     "output_type": "execute_result",
     "data": {
      "text/plain": "False"
     },
     "metadata": {},
     "execution_count": 109
    }
   ],
   "source": [
    "tensor2.requires_grad"
   ]
  },
  {
   "cell_type": "code",
   "execution_count": 110,
   "metadata": {},
   "outputs": [
    {
     "output_type": "execute_result",
     "data": {
      "text/plain": "tensor([[1., 2., 3.],\n        [4., 5., 6.]], requires_grad=True)"
     },
     "metadata": {},
     "execution_count": 110
    }
   ],
   "source": [
    "tensor1.requires_grad_() #Enables tracking history on this tensor"
   ]
  },
  {
   "cell_type": "code",
   "execution_count": 111,
   "metadata": {},
   "outputs": [
    {
     "output_type": "stream",
     "name": "stdout",
     "text": "None\n"
    }
   ],
   "source": [
    "print(tensor1.grad) #No gradients available. This tensor is part of a graph but no forward and backward passes has been made"
   ]
  },
  {
   "cell_type": "code",
   "execution_count": 112,
   "metadata": {},
   "outputs": [
    {
     "output_type": "stream",
     "name": "stdout",
     "text": "None\n"
    }
   ],
   "source": [
    "print(tensor1.grad_fn)"
   ]
  },
  {
   "cell_type": "code",
   "execution_count": 113,
   "metadata": {},
   "outputs": [
    {
     "output_type": "execute_result",
     "data": {
      "text/plain": "tensor([[ 7., 16., 27.],\n        [40., 55., 72.]], grad_fn=<MulBackward0>)"
     },
     "metadata": {},
     "execution_count": 113
    }
   ],
   "source": [
    "output_tensor = tensor1 * tensor2\n",
    "output_tensor"
   ]
  },
  {
   "cell_type": "code",
   "execution_count": 114,
   "metadata": {},
   "outputs": [
    {
     "output_type": "execute_result",
     "data": {
      "text/plain": "True"
     },
     "metadata": {},
     "execution_count": 114
    }
   ],
   "source": [
    "output_tensor.requires_grad #This is true because one of its inputs are ture"
   ]
  },
  {
   "cell_type": "code",
   "execution_count": 115,
   "metadata": {},
   "outputs": [
    {
     "output_type": "stream",
     "name": "stdout",
     "text": "None\n"
    }
   ],
   "source": [
    "print(output_tensor.grad)"
   ]
  },
  {
   "cell_type": "code",
   "execution_count": 116,
   "metadata": {},
   "outputs": [
    {
     "output_type": "stream",
     "name": "stdout",
     "text": "<MulBackward0 object at 0x7fa6f281d910>\n"
    }
   ],
   "source": [
    "print(output_tensor.grad_fn ) #Grad function is multiplication because this tensor was produced by multiplication"
   ]
  },
  {
   "cell_type": "code",
   "execution_count": 117,
   "metadata": {},
   "outputs": [
    {
     "output_type": "stream",
     "name": "stdout",
     "text": "<MeanBackward0 object at 0x7fa6f2385130>\n"
    }
   ],
   "source": [
    "output_tensor = (tensor1 * tensor2).mean()\n",
    "print(output_tensor.grad_fn) #Grad function is mean because this tensor was produced by mean"
   ]
  },
  {
   "cell_type": "code",
   "execution_count": 118,
   "metadata": {},
   "outputs": [
    {
     "output_type": "stream",
     "name": "stdout",
     "text": "None\n"
    }
   ],
   "source": [
    "print(tensor1.grad) #No gradient associated with tensor1, because no back pass has occured"
   ]
  },
  {
   "cell_type": "code",
   "execution_count": 119,
   "metadata": {},
   "outputs": [],
   "source": [
    "output_tensor.backward()"
   ]
  },
  {
   "cell_type": "code",
   "execution_count": 120,
   "metadata": {},
   "outputs": [
    {
     "output_type": "stream",
     "name": "stdout",
     "text": "tensor([[1.1667, 1.3333, 1.5000],\n        [1.6667, 1.8333, 2.0000]])\n"
    }
   ],
   "source": [
    "print(tensor1.grad) #This gradient is partial derivative for parameters in tensor1 wrt to output_tensor"
   ]
  },
  {
   "cell_type": "code",
   "execution_count": 121,
   "metadata": {},
   "outputs": [
    {
     "output_type": "execute_result",
     "data": {
      "text/plain": "(torch.Size([2, 3]), torch.Size([2, 3]))"
     },
     "metadata": {},
     "execution_count": 121
    }
   ],
   "source": [
    "tensor1.grad.shape, tensor1.shape"
   ]
  },
  {
   "cell_type": "code",
   "execution_count": 122,
   "metadata": {},
   "outputs": [
    {
     "output_type": "stream",
     "name": "stdout",
     "text": "None\n"
    }
   ],
   "source": [
    "print(tensor2.grad) #requires_grad is false so no gradient were calculate wrt tensor2"
   ]
  },
  {
   "cell_type": "code",
   "execution_count": 123,
   "metadata": {},
   "outputs": [
    {
     "output_type": "stream",
     "name": "stdout",
     "text": "None\n"
    }
   ],
   "source": [
    "print(output_tensor.grad) #No gradient because this is the value wrt which we calculated partial derivatives to get our gradients"
   ]
  },
  {
   "cell_type": "code",
   "execution_count": 124,
   "metadata": {},
   "outputs": [
    {
     "output_type": "stream",
     "name": "stdout",
     "text": "True\n"
    }
   ],
   "source": [
    "new_tensor = tensor1 * 3\n",
    "print(new_tensor.requires_grad)"
   ]
  },
  {
   "cell_type": "code",
   "execution_count": 125,
   "metadata": {},
   "outputs": [
    {
     "output_type": "execute_result",
     "data": {
      "text/plain": "tensor([[ 3.,  6.,  9.],\n        [12., 15., 18.]], grad_fn=<MulBackward0>)"
     },
     "metadata": {},
     "execution_count": 125
    }
   ],
   "source": [
    "new_tensor"
   ]
  },
  {
   "cell_type": "code",
   "execution_count": 126,
   "metadata": {},
   "outputs": [
    {
     "output_type": "stream",
     "name": "stdout",
     "text": "new_tensor =  tensor([[ 3.,  6.,  9.],\n        [12., 15., 18.]])\nrequires_grad for tensor1 =  True\nrequires_grad for tensor2 =  False\nrequires_grad for new_tensor =  False\n"
    }
   ],
   "source": [
    "with torch.no_grad(): #Stop autograd from trackin history on tensors with requires_grad = True\n",
    "    new_tensor = tensor1 * 3\n",
    "    print('new_tensor = ', new_tensor)\n",
    "    print('requires_grad for tensor1 = ', tensor1.requires_grad)\n",
    "    print('requires_grad for tensor2 = ', tensor2.requires_grad)\n",
    "    print('requires_grad for new_tensor = ', new_tensor.requires_grad)"
   ]
  },
  {
   "cell_type": "code",
   "execution_count": 127,
   "metadata": {},
   "outputs": [],
   "source": [
    "def calculate(t):\n",
    "    return t * 2"
   ]
  },
  {
   "cell_type": "code",
   "execution_count": 128,
   "metadata": {},
   "outputs": [],
   "source": [
    "@torch.no_grad() #Tursn off history tracking for tensors created with this function\n",
    "def calculate_with_no_grad(t):\n",
    "    return t * 2"
   ]
  },
  {
   "cell_type": "code",
   "execution_count": 129,
   "metadata": {},
   "outputs": [
    {
     "output_type": "execute_result",
     "data": {
      "text/plain": "tensor([[ 2.,  4.,  6.],\n        [ 8., 10., 12.]], grad_fn=<MulBackward0>)"
     },
     "metadata": {},
     "execution_count": 129
    }
   ],
   "source": [
    "result_tensor = calculate(tensor1)\n",
    "result_tensor"
   ]
  },
  {
   "cell_type": "code",
   "execution_count": 130,
   "metadata": {},
   "outputs": [
    {
     "output_type": "execute_result",
     "data": {
      "text/plain": "True"
     },
     "metadata": {},
     "execution_count": 130
    }
   ],
   "source": [
    "result_tensor.requires_grad"
   ]
  },
  {
   "cell_type": "code",
   "execution_count": 131,
   "metadata": {},
   "outputs": [
    {
     "output_type": "execute_result",
     "data": {
      "text/plain": "tensor([[ 2.,  4.,  6.],\n        [ 8., 10., 12.]])"
     },
     "metadata": {},
     "execution_count": 131
    }
   ],
   "source": [
    "result_tensor_no_grad = calculate_with_no_grad(tensor1)\n",
    "result_tensor_no_grad"
   ]
  },
  {
   "cell_type": "code",
   "execution_count": 132,
   "metadata": {},
   "outputs": [
    {
     "output_type": "execute_result",
     "data": {
      "text/plain": "False"
     },
     "metadata": {},
     "execution_count": 132
    }
   ],
   "source": [
    "result_tensor_no_grad.requires_grad"
   ]
  },
  {
   "cell_type": "code",
   "execution_count": 133,
   "metadata": {},
   "outputs": [
    {
     "output_type": "stream",
     "name": "stdout",
     "text": "new_tensor_no_grad =  tensor([[ 3.,  6.,  9.],\n        [12., 15., 18.]])\nnew_tensor_grad =  tensor([[ 3.,  6.,  9.],\n        [12., 15., 18.]], grad_fn=<MulBackward0>)\n"
    }
   ],
   "source": [
    "with torch.no_grad():\n",
    "    new_tensor_no_grad = tensor1 * 3\n",
    "    print('new_tensor_no_grad = ', new_tensor_no_grad)\n",
    "    with torch.enable_grad(): #Enables tracking within a block that disables traking\n",
    "        new_tensor_grad = tensor1 * 3\n",
    "        print('new_tensor_grad = ', new_tensor_grad)"
   ]
  },
  {
   "cell_type": "code",
   "execution_count": 134,
   "metadata": {},
   "outputs": [
    {
     "output_type": "execute_result",
     "data": {
      "text/plain": "tensor([[1., 2.],\n        [3., 4.]], requires_grad=True)"
     },
     "metadata": {},
     "execution_count": 134
    }
   ],
   "source": [
    "tensor_one = torch.tensor([[1.0,2.0], [3.0,4.0]], requires_grad=True)\n",
    "tensor_one"
   ]
  },
  {
   "cell_type": "code",
   "execution_count": 135,
   "metadata": {},
   "outputs": [
    {
     "output_type": "execute_result",
     "data": {
      "text/plain": "tensor([[5., 6.],\n        [7., 8.]])"
     },
     "metadata": {},
     "execution_count": 135
    }
   ],
   "source": [
    "tensor_two = torch.Tensor([[5,6], [7,8]])\n",
    "tensor_two"
   ]
  },
  {
   "cell_type": "code",
   "execution_count": 136,
   "metadata": {},
   "outputs": [
    {
     "output_type": "execute_result",
     "data": {
      "text/plain": "tensor([[5., 6.],\n        [7., 8.]], requires_grad=True)"
     },
     "metadata": {},
     "execution_count": 136
    }
   ],
   "source": [
    "tensor_two.requires_grad_()"
   ]
  },
  {
   "cell_type": "code",
   "execution_count": 137,
   "metadata": {},
   "outputs": [
    {
     "output_type": "execute_result",
     "data": {
      "text/plain": "tensor(9., grad_fn=<MeanBackward0>)"
     },
     "metadata": {},
     "execution_count": 137
    }
   ],
   "source": [
    "final_tensor  = (tensor_one + tensor_two).mean()\n",
    "final_tensor"
   ]
  },
  {
   "cell_type": "code",
   "execution_count": 138,
   "metadata": {},
   "outputs": [],
   "source": [
    "final_tensor.backward() #Calculates back pass for both inputs since they have grad tracking to True"
   ]
  },
  {
   "cell_type": "code",
   "execution_count": 141,
   "metadata": {},
   "outputs": [
    {
     "output_type": "execute_result",
     "data": {
      "text/plain": "tensor([[0.2500, 0.2500],\n        [0.2500, 0.2500]])"
     },
     "metadata": {},
     "execution_count": 141
    }
   ],
   "source": [
    "tensor_one.grad"
   ]
  },
  {
   "cell_type": "code",
   "execution_count": 140,
   "metadata": {},
   "outputs": [
    {
     "output_type": "execute_result",
     "data": {
      "text/plain": "tensor([[0.2500, 0.2500],\n        [0.2500, 0.2500]])"
     },
     "metadata": {},
     "execution_count": 140
    }
   ],
   "source": [
    "tensor_two.grad"
   ]
  },
  {
   "cell_type": "code",
   "execution_count": 143,
   "metadata": {},
   "outputs": [
    {
     "output_type": "execute_result",
     "data": {
      "text/plain": "tensor([[1., 2.],\n        [3., 4.]])"
     },
     "metadata": {},
     "execution_count": 143
    }
   ],
   "source": [
    "detached_tensor = tensor_one.detach() #Returns a new tensor detached from current computation graph. Will set requires_grad=False\n",
    "detached_tensor "
   ]
  },
  {
   "cell_type": "code",
   "execution_count": 144,
   "metadata": {},
   "outputs": [
    {
     "output_type": "execute_result",
     "data": {
      "text/plain": "tensor([[1., 2.],\n        [3., 4.]], requires_grad=True)"
     },
     "metadata": {},
     "execution_count": 144
    }
   ],
   "source": [
    "tensor_one"
   ]
  },
  {
   "cell_type": "code",
   "execution_count": 145,
   "metadata": {},
   "outputs": [],
   "source": [
    "mean_tensor = (tensor_one + detached_tensor).mean()\n",
    "mean_tensor.backward()"
   ]
  },
  {
   "cell_type": "code",
   "execution_count": 146,
   "metadata": {},
   "outputs": [
    {
     "output_type": "execute_result",
     "data": {
      "text/plain": "tensor([[0.5000, 0.5000],\n        [0.5000, 0.5000]])"
     },
     "metadata": {},
     "execution_count": 146
    }
   ],
   "source": [
    "tensor_one.grad"
   ]
  },
  {
   "cell_type": "code",
   "execution_count": 147,
   "metadata": {},
   "outputs": [
    {
     "output_type": "stream",
     "name": "stdout",
     "text": "None\n"
    }
   ],
   "source": [
    "print(detached_tensor.grad)"
   ]
  }
 ],
 "metadata": {
  "language_info": {
   "codemirror_mode": {
    "name": "ipython",
    "version": 3
   },
   "file_extension": ".py",
   "mimetype": "text/x-python",
   "name": "python",
   "nbconvert_exporter": "python",
   "pygments_lexer": "ipython3",
   "version": "3.8.3-final"
  },
  "orig_nbformat": 2,
  "kernelspec": {
   "name": "python38364bitd3a911c672994e21bbfcd04ecfd151d9",
   "display_name": "Python 3.8.3 64-bit"
  }
 },
 "nbformat": 4,
 "nbformat_minor": 2
}