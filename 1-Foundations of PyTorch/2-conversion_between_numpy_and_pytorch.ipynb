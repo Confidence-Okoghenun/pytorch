{
 "cells": [
  {
   "cell_type": "code",
   "execution_count": 1,
   "metadata": {},
   "outputs": [],
   "source": [
    "import torch\n",
    "import numpy as np"
   ]
  },
  {
   "cell_type": "code",
   "execution_count": 10,
   "metadata": {},
   "outputs": [
    {
     "output_type": "execute_result",
     "data": {
      "text/plain": "tensor([[0.4054, 0.7251, 0.2151],\n        [0.1978, 0.9720, 0.8928],\n        [0.4074, 0.9365, 0.5093],\n        [0.8927, 0.8734, 0.8483]])"
     },
     "metadata": {},
     "execution_count": 10
    }
   ],
   "source": [
    "tensor = torch.rand(4, 3)\n",
    "tensor"
   ]
  },
  {
   "cell_type": "code",
   "execution_count": 11,
   "metadata": {},
   "outputs": [
    {
     "output_type": "execute_result",
     "data": {
      "text/plain": "torch.Tensor"
     },
     "metadata": {},
     "execution_count": 11
    }
   ],
   "source": [
    "type(tensor)"
   ]
  },
  {
   "cell_type": "code",
   "execution_count": 13,
   "metadata": {},
   "outputs": [
    {
     "output_type": "execute_result",
     "data": {
      "text/plain": "array([[0.40542734, 0.7251395 , 0.21513695],\n       [0.19777423, 0.9719644 , 0.8927584 ],\n       [0.40738297, 0.93651235, 0.5092772 ],\n       [0.8926914 , 0.87342876, 0.8482833 ]], dtype=float32)"
     },
     "metadata": {},
     "execution_count": 13
    }
   ],
   "source": [
    "numpy_from_tensor = tensor.numpy()\n",
    "numpy_from_tensor"
   ]
  },
  {
   "cell_type": "code",
   "execution_count": 14,
   "metadata": {},
   "outputs": [
    {
     "output_type": "execute_result",
     "data": {
      "text/plain": "numpy.ndarray"
     },
     "metadata": {},
     "execution_count": 14
    }
   ],
   "source": [
    "type(numpy_from_tensor)"
   ]
  },
  {
   "cell_type": "code",
   "execution_count": 16,
   "metadata": {},
   "outputs": [
    {
     "output_type": "execute_result",
     "data": {
      "text/plain": "False"
     },
     "metadata": {},
     "execution_count": 16
    }
   ],
   "source": [
    "torch.is_tensor(numpy_from_tensor)"
   ]
  },
  {
   "cell_type": "code",
   "execution_count": 18,
   "metadata": {},
   "outputs": [
    {
     "output_type": "execute_result",
     "data": {
      "text/plain": "(array([[100.        ,   0.7251395 ,   0.21513695],\n        [  0.19777423,   0.9719644 ,   0.8927584 ],\n        [  0.40738297,   0.93651235,   0.5092772 ],\n        [  0.8926914 ,   0.87342876,   0.8482833 ]], dtype=float32),\n tensor([[100.0000,   0.7251,   0.2151],\n         [  0.1978,   0.9720,   0.8928],\n         [  0.4074,   0.9365,   0.5093],\n         [  0.8927,   0.8734,   0.8483]]))"
     },
     "metadata": {},
     "execution_count": 18
    }
   ],
   "source": [
    "numpy_from_tensor[0,0] = 100.0 #Both tensor and numpy instance share same memory\n",
    "numpy_from_tensor, tensor"
   ]
  },
  {
   "cell_type": "code",
   "execution_count": 22,
   "metadata": {},
   "outputs": [
    {
     "output_type": "execute_result",
     "data": {
      "text/plain": "array([[  1.,   2.,   3.],\n       [ 10.,  20.,  30.],\n       [100., 200., 300.]])"
     },
     "metadata": {},
     "execution_count": 22
    }
   ],
   "source": [
    "numpy_arr = np.array([[1.0,2,3], [10,20,30], [100,200,300]])\n",
    "numpy_arr"
   ]
  },
  {
   "cell_type": "code",
   "execution_count": 23,
   "metadata": {},
   "outputs": [
    {
     "output_type": "execute_result",
     "data": {
      "text/plain": "tensor([[  1.,   2.,   3.],\n        [ 10.,  20.,  30.],\n        [100., 200., 300.]], dtype=torch.float64)"
     },
     "metadata": {},
     "execution_count": 23
    }
   ],
   "source": [
    "tensor_from_numpy = torch.from_numpy(numpy_arr)\n",
    "tensor_from_numpy"
   ]
  },
  {
   "cell_type": "code",
   "execution_count": 24,
   "metadata": {},
   "outputs": [
    {
     "output_type": "execute_result",
     "data": {
      "text/plain": "True"
     },
     "metadata": {},
     "execution_count": 24
    }
   ],
   "source": [
    " torc  h.is_tensor(tensor_from_numpy)"
   ]
  },
  {
   "cell_type": "code",
   "execution_count": 25,
   "metadata": {},
   "outputs": [
    {
     "output_type": "execute_result",
     "data": {
      "text/plain": "array([4, 8])"
     },
     "metadata": {},
     "execution_count": 25
    }
   ],
   "source": [
    "np_array_one = np.array([4,8])\n",
    "np_array_one"
   ]
  },
  {
   "cell_type": "code",
   "execution_count": 28,
   "metadata": {},
   "outputs": [
    {
     "output_type": "execute_result",
     "data": {
      "text/plain": "tensor([4, 8])"
     },
     "metadata": {},
     "execution_count": 28
    }
   ],
   "source": [
    "tensor_from_array_one = torch.as_tensor(np_array_one) #Another way to convert np array to tensor and only performs copy when needed, else passes by memory reference\n",
    "tensor_from_array_one "
   ]
  },
  {
   "cell_type": "code",
   "execution_count": 38,
   "metadata": {},
   "outputs": [
    {
     "output_type": "execute_result",
     "data": {
      "text/plain": "(array([  4, 100]), tensor([  4, 100]))"
     },
     "metadata": {},
     "execution_count": 38
    }
   ],
   "source": [
    " np_array_one[1] = 100\n",
    " np_array_one, tensor_from_array_one #This shows that it performs copy only when needed"
   ]
  },
  {
   "cell_type": "code",
   "execution_count": 34,
   "metadata": {},
   "outputs": [
    {
     "output_type": "execute_result",
     "data": {
      "text/plain": "array([2, 2])"
     },
     "metadata": {},
     "execution_count": 34
    }
   ],
   "source": [
    "np_array_two = np.array([2,2])\n",
    "np_array_two"
   ]
  },
  {
   "cell_type": "code",
   "execution_count": 35,
   "metadata": {},
   "outputs": [
    {
     "output_type": "execute_result",
     "data": {
      "text/plain": "tensor([2, 2])"
     },
     "metadata": {},
     "execution_count": 35
    }
   ],
   "source": [
    "tensor_from_array_two = torch.tensor(np_array_two)\n",
    "tensor_from_array_two"
   ]
  },
  {
   "cell_type": "code",
   "execution_count": 37,
   "metadata": {},
   "outputs": [
    {
     "output_type": "execute_result",
     "data": {
      "text/plain": "(array([2, 4]), tensor([2, 2]))"
     },
     "metadata": {},
     "execution_count": 37
    }
   ],
   "source": [
    "np_array_two[1] = 4\n",
    "np_array_two, tensor_from_array_two"
   ]
  }
 ],
 "metadata": {
  "language_info": {
   "codemirror_mode": {
    "name": "ipython",
    "version": 3
   },
   "file_extension": ".py",
   "mimetype": "text/x-python",
   "name": "python",
   "nbconvert_exporter": "python",
   "pygments_lexer": "ipython3",
   "version": "3.8.3-final"
  },
  "orig_nbformat": 2,
  "kernelspec": {
   "name": "python38364bitbf6ae328e6a449358251341c4f3100d2",
   "display_name": "Python 3.8.3 64-bit"
  }
 },
 "nbformat": 4,
 "nbformat_minor": 2
}